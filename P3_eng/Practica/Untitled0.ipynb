{
  "nbformat": 4,
  "nbformat_minor": 0,
  "metadata": {
    "colab": {
      "name": "Untitled0.ipynb",
      "provenance": [],
      "collapsed_sections": []
    },
    "kernelspec": {
      "name": "python3",
      "display_name": "Python 3"
    }
  },
  "cells": [
    {
      "cell_type": "code",
      "metadata": {
        "id": "m_6OpTnu6e-g"
      },
      "source": [
        "l2=10\n",
        "EA=7571\n",
        "V=8\n",
        "h=np.sqrt(l2*l2-l2*l2/2/2)\n",
        "x2 = np.array([[0,0],[l2,0],[2*l2,0],[l2/2,h],[l2/2+l2,h]])\n",
        "elem2 = [[0,1,EA],[1,2,EA],[3,4,EA],[0,3,EA],[3,1,EA],[1,4,EA],[4,2,EA]]\n",
        "fs2 = [[1,1,-V]]\n",
        "cc2 = [[0,0],[0,1],[2,1]]\n",
        "u=f_solve(x2,elem2,fs2,cc2)\n",
        "print(u)\n",
        "V*l2/(np.sqrt(3)*EA)"
      ],
      "execution_count": null,
      "outputs": []
    }
  ]
}